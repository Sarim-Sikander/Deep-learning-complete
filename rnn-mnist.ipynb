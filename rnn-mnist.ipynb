{
 "cells": [
  {
   "cell_type": "code",
   "execution_count": 1,
   "id": "904948c3",
   "metadata": {},
   "outputs": [],
   "source": [
    "import numpy as np\n",
    "from tensorflow.keras.models import Sequential\n",
    "from tensorflow.keras.layers import Dense, Activation, SimpleRNN\n",
    "from tensorflow.keras.utils import to_categorical, plot_model\n",
    "from tensorflow.keras.datasets import mnist"
   ]
  },
  {
   "cell_type": "code",
   "execution_count": 2,
   "id": "575f741c",
   "metadata": {},
   "outputs": [],
   "source": [
    "# load mnist dataset\n",
    "(x_train, y_train), (x_test, y_test) = mnist.load_data()"
   ]
  },
  {
   "cell_type": "code",
   "execution_count": 3,
   "id": "6f4de378",
   "metadata": {},
   "outputs": [],
   "source": [
    "num_labels = len(np.unique(y_train))\n",
    "# convert to one-hot vector\n",
    "y_train = to_categorical(y_train)\n",
    "y_test = to_categorical(y_test)"
   ]
  },
  {
   "cell_type": "code",
   "execution_count": 4,
   "id": "210b9750",
   "metadata": {},
   "outputs": [],
   "source": [
    "# resize and normalize\n",
    "image_size = x_train.shape[1]\n",
    "x_train = np.reshape(x_train,[-1, image_size, image_size])\n",
    "x_test = np.reshape(x_test,[-1, image_size, image_size])\n",
    "x_train = x_train.astype('float32') / 255\n",
    "x_test = x_test.astype('float32') / 255"
   ]
  },
  {
   "cell_type": "code",
   "execution_count": 7,
   "id": "bf6fd9e4",
   "metadata": {},
   "outputs": [],
   "source": [
    "# network parameters\n",
    "input_shape = (image_size, image_size)\n",
    "batch_size = 128\n",
    "units = 256\n",
    "dropout = 0.2"
   ]
  },
  {
   "cell_type": "code",
   "execution_count": 8,
   "id": "66a7c240",
   "metadata": {},
   "outputs": [
    {
     "name": "stdout",
     "output_type": "stream",
     "text": [
      "Model: \"sequential\"\n",
      "_________________________________________________________________\n",
      " Layer (type)                Output Shape              Param #   \n",
      "=================================================================\n",
      " simple_rnn (SimpleRNN)      (None, 256)               72960     \n",
      "                                                                 \n",
      " dense (Dense)               (None, 10)                2570      \n",
      "                                                                 \n",
      " activation (Activation)     (None, 10)                0         \n",
      "                                                                 \n",
      "=================================================================\n",
      "Total params: 75,530\n",
      "Trainable params: 75,530\n",
      "Non-trainable params: 0\n",
      "_________________________________________________________________\n",
      "You must install pydot (`pip install pydot`) and install graphviz (see instructions at https://graphviz.gitlab.io/download/) for plot_model/model_to_dot to work.\n"
     ]
    }
   ],
   "source": [
    "# model is RNN with 256 units, input is 28-dim vector 28 timesteps\n",
    "model = Sequential()\n",
    "model.add(SimpleRNN(units=units,\n",
    "                    dropout=dropout,input_shape=input_shape))\n",
    "model.add(Dense(num_labels))\n",
    "model.add(Activation('softmax'))\n",
    "model.summary()\n",
    "\n",
    "plot_model(model, to_file='rnn-mnist.png', show_shapes=True)"
   ]
  },
  {
   "cell_type": "code",
   "execution_count": 9,
   "id": "e41966cd",
   "metadata": {},
   "outputs": [],
   "source": [
    "# loss function for one-hot vector\n",
    "# use of sgd optimizer\n",
    "# accuracy is good metric for classification tasks\n",
    "model.compile(loss='categorical_crossentropy',\n",
    "              optimizer='sgd',\n",
    "              metrics=['accuracy'])"
   ]
  },
  {
   "cell_type": "code",
   "execution_count": 10,
   "id": "783e2365",
   "metadata": {},
   "outputs": [
    {
     "name": "stdout",
     "output_type": "stream",
     "text": [
      "Epoch 1/20\n",
      "469/469 [==============================] - 34s 64ms/step - loss: 0.7416 - accuracy: 0.7826\n",
      "Epoch 2/20\n",
      "469/469 [==============================] - 31s 65ms/step - loss: 0.3245 - accuracy: 0.9043\n",
      "Epoch 3/20\n",
      "469/469 [==============================] - 30s 64ms/step - loss: 0.2392 - accuracy: 0.9288\n",
      "Epoch 4/20\n",
      "469/469 [==============================] - 30s 64ms/step - loss: 0.1951 - accuracy: 0.9424\n",
      "Epoch 5/20\n",
      "469/469 [==============================] - 30s 63ms/step - loss: 0.1689 - accuracy: 0.9488\n",
      "Epoch 6/20\n",
      "469/469 [==============================] - 30s 64ms/step - loss: 0.1498 - accuracy: 0.9551\n",
      "Epoch 7/20\n",
      "469/469 [==============================] - 30s 65ms/step - loss: 0.1363 - accuracy: 0.9594\n",
      "Epoch 8/20\n",
      "469/469 [==============================] - 30s 65ms/step - loss: 0.1266 - accuracy: 0.9606\n",
      "Epoch 9/20\n",
      "469/469 [==============================] - 30s 64ms/step - loss: 0.1196 - accuracy: 0.9638\n",
      "Epoch 10/20\n",
      "469/469 [==============================] - 29s 62ms/step - loss: 0.1098 - accuracy: 0.9663\n",
      "Epoch 11/20\n",
      "469/469 [==============================] - 31s 65ms/step - loss: 0.1048 - accuracy: 0.9680\n",
      "Epoch 12/20\n",
      "469/469 [==============================] - 30s 65ms/step - loss: 0.0974 - accuracy: 0.9710\n",
      "Epoch 13/20\n",
      "469/469 [==============================] - 30s 63ms/step - loss: 0.0946 - accuracy: 0.9711\n",
      "Epoch 14/20\n",
      "469/469 [==============================] - 29s 62ms/step - loss: 0.0877 - accuracy: 0.9731\n",
      "Epoch 15/20\n",
      "469/469 [==============================] - 29s 61ms/step - loss: 0.0847 - accuracy: 0.9744\n",
      "Epoch 16/20\n",
      "469/469 [==============================] - 30s 64ms/step - loss: 0.0839 - accuracy: 0.9742\n",
      "Epoch 17/20\n",
      "469/469 [==============================] - 29s 62ms/step - loss: 0.0786 - accuracy: 0.9758\n",
      "Epoch 18/20\n",
      "469/469 [==============================] - 28s 61ms/step - loss: 0.0748 - accuracy: 0.9774\n",
      "Epoch 19/20\n",
      "469/469 [==============================] - 28s 60ms/step - loss: 0.0742 - accuracy: 0.9772\n",
      "Epoch 20/20\n",
      "469/469 [==============================] - 29s 63ms/step - loss: 0.0713 - accuracy: 0.9779\n"
     ]
    },
    {
     "data": {
      "text/plain": [
       "<keras.callbacks.History at 0x1c314bc1fa0>"
      ]
     },
     "execution_count": 10,
     "metadata": {},
     "output_type": "execute_result"
    }
   ],
   "source": [
    "# train the network\n",
    "model.fit(x_train, y_train, epochs=20, batch_size=batch_size)"
   ]
  },
  {
   "cell_type": "code",
   "execution_count": 11,
   "id": "39e5c5c3",
   "metadata": {},
   "outputs": [
    {
     "name": "stdout",
     "output_type": "stream",
     "text": [
      "\n",
      "Test accuracy: 97.6%\n"
     ]
    }
   ],
   "source": [
    "_, acc = model.evaluate(x_test,y_test,\n",
    "                        batch_size=batch_size,verbose=0)\n",
    "print(\"\\nTest accuracy: %.1f%%\" % (100.0 * acc))"
   ]
  },
  {
   "cell_type": "code",
   "execution_count": null,
   "id": "f5af3bc2",
   "metadata": {},
   "outputs": [],
   "source": []
  }
 ],
 "metadata": {
  "kernelspec": {
   "display_name": "Python 3 (ipykernel)",
   "language": "python",
   "name": "python3"
  },
  "language_info": {
   "codemirror_mode": {
    "name": "ipython",
    "version": 3
   },
   "file_extension": ".py",
   "mimetype": "text/x-python",
   "name": "python",
   "nbconvert_exporter": "python",
   "pygments_lexer": "ipython3",
   "version": "3.9.12"
  }
 },
 "nbformat": 4,
 "nbformat_minor": 5
}

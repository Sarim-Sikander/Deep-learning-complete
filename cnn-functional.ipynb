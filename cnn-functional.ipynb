{
 "cells": [
  {
   "cell_type": "code",
   "execution_count": 6,
   "id": "e688f137",
   "metadata": {},
   "outputs": [],
   "source": [
    "import numpy as np\n",
    "from tensorflow.keras.layers import Dense, Dropout, Input\n",
    "from tensorflow.keras.layers import Conv2D, MaxPooling2D, Flatten\n",
    "from tensorflow.keras.models import Model\n",
    "from tensorflow.keras.datasets import mnist\n",
    "from tensorflow.keras.utils import to_categorical"
   ]
  },
  {
   "cell_type": "code",
   "execution_count": 2,
   "id": "1a287a07",
   "metadata": {},
   "outputs": [],
   "source": [
    "# load MNIST dataset\n",
    "(x_train, y_train), (x_test, y_test) = mnist.load_data()"
   ]
  },
  {
   "cell_type": "code",
   "execution_count": 3,
   "id": "b6deb91b",
   "metadata": {},
   "outputs": [],
   "source": [
    "# from sparse label to categorical\n",
    "num_labels = len(np.unique(y_train))\n",
    "y_train = to_categorical(y_train)\n",
    "y_test = to_categorical(y_test)"
   ]
  },
  {
   "cell_type": "code",
   "execution_count": 4,
   "id": "5633feac",
   "metadata": {},
   "outputs": [],
   "source": [
    "# reshape and normalize input images\n",
    "image_size = x_train.shape[1]\n",
    "x_train = np.reshape(x_train,[-1, image_size, image_size, 1])\n",
    "x_test = np.reshape(x_test,[-1, image_size, image_size, 1])\n",
    "x_train = x_train.astype('float32') / 255\n",
    "x_test = x_test.astype('float32') / 255"
   ]
  },
  {
   "cell_type": "code",
   "execution_count": 5,
   "id": "a34918ba",
   "metadata": {},
   "outputs": [],
   "source": [
    "# network parameters\n",
    "input_shape = (image_size, image_size, 1)\n",
    "batch_size = 128\n",
    "kernel_size = 3\n",
    "filters = 64\n",
    "dropout = 0.3"
   ]
  },
  {
   "cell_type": "code",
   "execution_count": 7,
   "id": "d633fb77",
   "metadata": {},
   "outputs": [],
   "source": [
    "inputs = Input(shape=input_shape)\n",
    "y = Conv2D(filters = filters,\n",
    "          kernel_size=kernel_size, activation='relu')(inputs)\n",
    "y = MaxPooling2D()(y)\n",
    "y = Conv2D(filters=filters, kernel_size=kernel_size,activation='relu')(y)\n",
    "y = MaxPooling2D()(y)\n",
    "y = Conv2D(filters=filters, kernel_size=kernel_size,activation='relu')(y)\n",
    "y = Flatten()(y)\n",
    "y = Dropout(dropout)(y)\n",
    "outputs = Dense(num_labels, activation='softmax')(y)"
   ]
  },
  {
   "cell_type": "code",
   "execution_count": 9,
   "id": "d1b352d9",
   "metadata": {},
   "outputs": [
    {
     "name": "stdout",
     "output_type": "stream",
     "text": [
      "Model: \"model_1\"\n",
      "_________________________________________________________________\n",
      " Layer (type)                Output Shape              Param #   \n",
      "=================================================================\n",
      " input_1 (InputLayer)        [(None, 28, 28, 1)]       0         \n",
      "                                                                 \n",
      " conv2d (Conv2D)             (None, 26, 26, 64)        640       \n",
      "                                                                 \n",
      " max_pooling2d (MaxPooling2D  (None, 13, 13, 64)       0         \n",
      " )                                                               \n",
      "                                                                 \n",
      " conv2d_1 (Conv2D)           (None, 11, 11, 64)        36928     \n",
      "                                                                 \n",
      " max_pooling2d_1 (MaxPooling  (None, 5, 5, 64)         0         \n",
      " 2D)                                                             \n",
      "                                                                 \n",
      " conv2d_2 (Conv2D)           (None, 3, 3, 64)          36928     \n",
      "                                                                 \n",
      " flatten (Flatten)           (None, 576)               0         \n",
      "                                                                 \n",
      " dropout (Dropout)           (None, 576)               0         \n",
      "                                                                 \n",
      " dense (Dense)               (None, 10)                5770      \n",
      "                                                                 \n",
      "=================================================================\n",
      "Total params: 80,266\n",
      "Trainable params: 80,266\n",
      "Non-trainable params: 0\n",
      "_________________________________________________________________\n"
     ]
    }
   ],
   "source": [
    "# build the model by supplying inputs/outputs\n",
    "model = Model(inputs=inputs, outputs=outputs)\n",
    "# network model in text\n",
    "model.summary()\n",
    "# classifier loss, Adam optimizer, classifier accuracy\n",
    "model.compile(loss='categorical_crossentropy',optimizer='adam',\n",
    "              metrics=['accuracy'])"
   ]
  },
  {
   "cell_type": "code",
   "execution_count": 10,
   "id": "b6936f77",
   "metadata": {},
   "outputs": [
    {
     "name": "stdout",
     "output_type": "stream",
     "text": [
      "Epoch 1/20\n",
      "469/469 [==============================] - 17s 13ms/step - loss: 0.2747 - accuracy: 0.9147 - val_loss: 0.0523 - val_accuracy: 0.9847\n",
      "Epoch 2/20\n",
      "469/469 [==============================] - 5s 11ms/step - loss: 0.0737 - accuracy: 0.9777 - val_loss: 0.0337 - val_accuracy: 0.9894\n",
      "Epoch 3/20\n",
      "469/469 [==============================] - 5s 11ms/step - loss: 0.0521 - accuracy: 0.9840 - val_loss: 0.0295 - val_accuracy: 0.9903\n",
      "Epoch 4/20\n",
      "469/469 [==============================] - 5s 11ms/step - loss: 0.0431 - accuracy: 0.9869 - val_loss: 0.0296 - val_accuracy: 0.9905\n",
      "Epoch 5/20\n",
      "469/469 [==============================] - 5s 12ms/step - loss: 0.0371 - accuracy: 0.9885 - val_loss: 0.0246 - val_accuracy: 0.9916\n",
      "Epoch 6/20\n",
      "469/469 [==============================] - 5s 11ms/step - loss: 0.0310 - accuracy: 0.9902 - val_loss: 0.0233 - val_accuracy: 0.9924\n",
      "Epoch 7/20\n",
      "469/469 [==============================] - 5s 11ms/step - loss: 0.0293 - accuracy: 0.9904 - val_loss: 0.0224 - val_accuracy: 0.9921\n",
      "Epoch 8/20\n",
      "469/469 [==============================] - 5s 11ms/step - loss: 0.0246 - accuracy: 0.9921 - val_loss: 0.0228 - val_accuracy: 0.9928\n",
      "Epoch 9/20\n",
      "469/469 [==============================] - 5s 11ms/step - loss: 0.0226 - accuracy: 0.9927 - val_loss: 0.0223 - val_accuracy: 0.9932\n",
      "Epoch 10/20\n",
      "469/469 [==============================] - 5s 11ms/step - loss: 0.0203 - accuracy: 0.9934 - val_loss: 0.0202 - val_accuracy: 0.9937\n",
      "Epoch 11/20\n",
      "469/469 [==============================] - 5s 11ms/step - loss: 0.0182 - accuracy: 0.9943 - val_loss: 0.0252 - val_accuracy: 0.9924\n",
      "Epoch 12/20\n",
      "469/469 [==============================] - 5s 11ms/step - loss: 0.0169 - accuracy: 0.9944 - val_loss: 0.0229 - val_accuracy: 0.9927\n",
      "Epoch 13/20\n",
      "469/469 [==============================] - 5s 11ms/step - loss: 0.0157 - accuracy: 0.9949 - val_loss: 0.0232 - val_accuracy: 0.9921\n",
      "Epoch 14/20\n",
      "469/469 [==============================] - 5s 11ms/step - loss: 0.0133 - accuracy: 0.9955 - val_loss: 0.0205 - val_accuracy: 0.9943\n",
      "Epoch 15/20\n",
      "469/469 [==============================] - 5s 11ms/step - loss: 0.0123 - accuracy: 0.9960 - val_loss: 0.0210 - val_accuracy: 0.9944\n",
      "Epoch 16/20\n",
      "469/469 [==============================] - 5s 11ms/step - loss: 0.0113 - accuracy: 0.9962 - val_loss: 0.0214 - val_accuracy: 0.9940\n",
      "Epoch 17/20\n",
      "469/469 [==============================] - 5s 11ms/step - loss: 0.0119 - accuracy: 0.9956 - val_loss: 0.0226 - val_accuracy: 0.9939\n",
      "Epoch 18/20\n",
      "469/469 [==============================] - 5s 11ms/step - loss: 0.0104 - accuracy: 0.9965 - val_loss: 0.0226 - val_accuracy: 0.9929\n",
      "Epoch 19/20\n",
      "469/469 [==============================] - 5s 11ms/step - loss: 0.0101 - accuracy: 0.9966 - val_loss: 0.0258 - val_accuracy: 0.9930\n",
      "Epoch 20/20\n",
      "469/469 [==============================] - 5s 11ms/step - loss: 0.0086 - accuracy: 0.9971 - val_loss: 0.0205 - val_accuracy: 0.9944\n"
     ]
    },
    {
     "data": {
      "text/plain": [
       "<keras.callbacks.History at 0x24f45da5b80>"
      ]
     },
     "execution_count": 10,
     "metadata": {},
     "output_type": "execute_result"
    }
   ],
   "source": [
    "# train the model with input images and labels\n",
    "model.fit(x_train,y_train,\n",
    "          validation_data=(x_test, y_test),\n",
    "          epochs=20,batch_size=batch_size)"
   ]
  },
  {
   "cell_type": "code",
   "execution_count": 11,
   "id": "4488874b",
   "metadata": {},
   "outputs": [
    {
     "name": "stdout",
     "output_type": "stream",
     "text": [
      "\n",
      "Test accuracy: 99.4%\n"
     ]
    }
   ],
   "source": [
    "# model accuracy on test dataset\n",
    "score = model.evaluate(x_test,y_test,\n",
    "                       batch_size=batch_size,verbose=0)\n",
    "print(\"\\nTest accuracy: %.1f%%\" % (100.0 * score[1]))"
   ]
  },
  {
   "cell_type": "code",
   "execution_count": null,
   "id": "d04c88a3",
   "metadata": {},
   "outputs": [],
   "source": []
  }
 ],
 "metadata": {
  "kernelspec": {
   "display_name": "Python 3 (ipykernel)",
   "language": "python",
   "name": "python3"
  },
  "language_info": {
   "codemirror_mode": {
    "name": "ipython",
    "version": 3
   },
   "file_extension": ".py",
   "mimetype": "text/x-python",
   "name": "python",
   "nbconvert_exporter": "python",
   "pygments_lexer": "ipython3",
   "version": "3.9.12"
  }
 },
 "nbformat": 4,
 "nbformat_minor": 5
}

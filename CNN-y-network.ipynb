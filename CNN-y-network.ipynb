{
 "cells": [
  {
   "cell_type": "code",
   "execution_count": 1,
   "id": "18065c64",
   "metadata": {},
   "outputs": [],
   "source": [
    "import numpy as np \n",
    "from tensorflow.keras.layers import Dense,Dropout, Input\n",
    "from tensorflow.keras.layers import Conv2D, MaxPooling2D\n",
    "from tensorflow.keras.layers import Flatten, concatenate\n",
    "from tensorflow.keras.models import Model\n",
    "from tensorflow.keras.datasets import mnist\n",
    "from tensorflow.keras.utils import to_categorical\n",
    "from tensorflow.keras.utils import plot_model"
   ]
  },
  {
   "cell_type": "code",
   "execution_count": 2,
   "id": "4ace68b4",
   "metadata": {},
   "outputs": [],
   "source": [
    "# load MNIST dataset\n",
    "(x_train, y_train), (x_test, y_test) = mnist.load_data()"
   ]
  },
  {
   "cell_type": "code",
   "execution_count": 3,
   "id": "c3f0adf8",
   "metadata": {},
   "outputs": [],
   "source": [
    "# from sparse label to categorical\n",
    "num_labels = len(np.unique(y_train))\n",
    "y_train = to_categorical(y_train)\n",
    "y_test = to_categorical(y_test)"
   ]
  },
  {
   "cell_type": "code",
   "execution_count": 4,
   "id": "1f193c8b",
   "metadata": {},
   "outputs": [],
   "source": [
    "# reshape and normalize input images\n",
    "image_size = x_train.shape[1]\n",
    "x_train = np.reshape(x_train,[-1, image_size, image_size, 1])\n",
    "x_test = np.reshape(x_test,[-1, image_size, image_size, 1])\n",
    "x_train = x_train.astype('float32') / 255\n",
    "x_test = x_test.astype('float32') / 255"
   ]
  },
  {
   "cell_type": "code",
   "execution_count": 5,
   "id": "7e40ed2e",
   "metadata": {},
   "outputs": [],
   "source": [
    "# network parameters\n",
    "input_shape = (image_size, image_size, 1)\n",
    "batch_size = 32\n",
    "kernel_size = 3\n",
    "dropout = 0.4\n",
    "n_filters = 32"
   ]
  },
  {
   "cell_type": "code",
   "execution_count": 6,
   "id": "a6633ab5",
   "metadata": {},
   "outputs": [],
   "source": [
    "# left branch of Y network\n",
    "left_inputs = Input(shape=input_shape)\n",
    "x = left_inputs\n",
    "filters = n_filters\n",
    "# 3 layers of Conv2D-Dropout-MaxPooling2D\n",
    "# number of filters doubles after each layer (32-64-128)\n",
    "for i in range(3):\n",
    "    x = Conv2D(filters=filters,kernel_size=kernel_size,padding='same',\n",
    "               activation='relu')(x)\n",
    "    x = Dropout(dropout)(x)\n",
    "    x = MaxPooling2D()(x)\n",
    "    filters *= 2\n",
    "    \n",
    "# right branch of Y network\n",
    "right_inputs = Input(shape=input_shape)\n",
    "y = right_inputs\n",
    "filters = n_filters\n",
    "# 3 layers of Conv2D-Dropout-MaxPooling2Do\n",
    "# number of filters doubles after each layer (32-64-128)\n",
    "for i in range(3):\n",
    "    y = Conv2D(filters=filters,kernel_size=kernel_size,padding='same',\n",
    "               activation='relu', dilation_rate=2)(y)\n",
    "    y = Dropout(dropout)(y)\n",
    "    y = MaxPooling2D()(y)\n",
    "    filters *= 2\n",
    "    \n",
    "y = concatenate([x,y])\n",
    "y = Flatten()(y)\n",
    "y = Dropout(dropout)(y)\n",
    "outputs = Dense(num_labels, activation='softmax')(y)"
   ]
  },
  {
   "cell_type": "code",
   "execution_count": 7,
   "id": "d1de4eaa",
   "metadata": {},
   "outputs": [],
   "source": [
    "model = Model([left_inputs, right_inputs], outputs)"
   ]
  },
  {
   "cell_type": "code",
   "execution_count": 8,
   "id": "b5def425",
   "metadata": {},
   "outputs": [
    {
     "name": "stdout",
     "output_type": "stream",
     "text": [
      "Model: \"model\"\n",
      "__________________________________________________________________________________________________\n",
      " Layer (type)                   Output Shape         Param #     Connected to                     \n",
      "==================================================================================================\n",
      " input_1 (InputLayer)           [(None, 28, 28, 1)]  0           []                               \n",
      "                                                                                                  \n",
      " input_2 (InputLayer)           [(None, 28, 28, 1)]  0           []                               \n",
      "                                                                                                  \n",
      " conv2d (Conv2D)                (None, 28, 28, 32)   320         ['input_1[0][0]']                \n",
      "                                                                                                  \n",
      " conv2d_3 (Conv2D)              (None, 28, 28, 32)   320         ['input_2[0][0]']                \n",
      "                                                                                                  \n",
      " dropout (Dropout)              (None, 28, 28, 32)   0           ['conv2d[0][0]']                 \n",
      "                                                                                                  \n",
      " dropout_3 (Dropout)            (None, 28, 28, 32)   0           ['conv2d_3[0][0]']               \n",
      "                                                                                                  \n",
      " max_pooling2d (MaxPooling2D)   (None, 14, 14, 32)   0           ['dropout[0][0]']                \n",
      "                                                                                                  \n",
      " max_pooling2d_3 (MaxPooling2D)  (None, 14, 14, 32)  0           ['dropout_3[0][0]']              \n",
      "                                                                                                  \n",
      " conv2d_1 (Conv2D)              (None, 14, 14, 64)   18496       ['max_pooling2d[0][0]']          \n",
      "                                                                                                  \n",
      " conv2d_4 (Conv2D)              (None, 14, 14, 64)   18496       ['max_pooling2d_3[0][0]']        \n",
      "                                                                                                  \n",
      " dropout_1 (Dropout)            (None, 14, 14, 64)   0           ['conv2d_1[0][0]']               \n",
      "                                                                                                  \n",
      " dropout_4 (Dropout)            (None, 14, 14, 64)   0           ['conv2d_4[0][0]']               \n",
      "                                                                                                  \n",
      " max_pooling2d_1 (MaxPooling2D)  (None, 7, 7, 64)    0           ['dropout_1[0][0]']              \n",
      "                                                                                                  \n",
      " max_pooling2d_4 (MaxPooling2D)  (None, 7, 7, 64)    0           ['dropout_4[0][0]']              \n",
      "                                                                                                  \n",
      " conv2d_2 (Conv2D)              (None, 7, 7, 128)    73856       ['max_pooling2d_1[0][0]']        \n",
      "                                                                                                  \n",
      " conv2d_5 (Conv2D)              (None, 7, 7, 128)    73856       ['max_pooling2d_4[0][0]']        \n",
      "                                                                                                  \n",
      " dropout_2 (Dropout)            (None, 7, 7, 128)    0           ['conv2d_2[0][0]']               \n",
      "                                                                                                  \n",
      " dropout_5 (Dropout)            (None, 7, 7, 128)    0           ['conv2d_5[0][0]']               \n",
      "                                                                                                  \n",
      " max_pooling2d_2 (MaxPooling2D)  (None, 3, 3, 128)   0           ['dropout_2[0][0]']              \n",
      "                                                                                                  \n",
      " max_pooling2d_5 (MaxPooling2D)  (None, 3, 3, 128)   0           ['dropout_5[0][0]']              \n",
      "                                                                                                  \n",
      " concatenate (Concatenate)      (None, 3, 3, 256)    0           ['max_pooling2d_2[0][0]',        \n",
      "                                                                  'max_pooling2d_5[0][0]']        \n",
      "                                                                                                  \n",
      " flatten (Flatten)              (None, 2304)         0           ['concatenate[0][0]']            \n",
      "                                                                                                  \n",
      " dropout_6 (Dropout)            (None, 2304)         0           ['flatten[0][0]']                \n",
      "                                                                                                  \n",
      " dense (Dense)                  (None, 10)           23050       ['dropout_6[0][0]']              \n",
      "                                                                                                  \n",
      "==================================================================================================\n",
      "Total params: 208,394\n",
      "Trainable params: 208,394\n",
      "Non-trainable params: 0\n",
      "__________________________________________________________________________________________________\n"
     ]
    }
   ],
   "source": [
    "model.summary()"
   ]
  },
  {
   "cell_type": "code",
   "execution_count": 9,
   "id": "89a8e883",
   "metadata": {},
   "outputs": [],
   "source": [
    "# classifier loss, Adam optimizer, classifier accuracy\n",
    "model.compile(loss='categorical_crossentropy',\n",
    "              optimizer='adam',\n",
    "              metrics=['accuracy'])"
   ]
  },
  {
   "cell_type": "code",
   "execution_count": 10,
   "id": "b2c17bb0",
   "metadata": {},
   "outputs": [
    {
     "name": "stdout",
     "output_type": "stream",
     "text": [
      "Epoch 1/20\n",
      "1875/1875 [==============================] - 34s 15ms/step - loss: 0.1730 - accuracy: 0.9455 - val_loss: 0.1448 - val_accuracy: 0.9863\n",
      "Epoch 2/20\n",
      "1875/1875 [==============================] - 27s 14ms/step - loss: 0.0648 - accuracy: 0.9796 - val_loss: 0.0925 - val_accuracy: 0.9898\n",
      "Epoch 3/20\n",
      "1875/1875 [==============================] - 27s 15ms/step - loss: 0.0532 - accuracy: 0.9834 - val_loss: 0.0681 - val_accuracy: 0.9914\n",
      "Epoch 4/20\n",
      "1875/1875 [==============================] - 3226s 2s/step - loss: 0.0456 - accuracy: 0.9855 - val_loss: 0.0693 - val_accuracy: 0.9907\n",
      "Epoch 5/20\n",
      "1875/1875 [==============================] - 64s 34ms/step - loss: 0.0414 - accuracy: 0.9870 - val_loss: 0.0702 - val_accuracy: 0.9914\n",
      "Epoch 6/20\n",
      "1875/1875 [==============================] - 67s 36ms/step - loss: 0.0399 - accuracy: 0.9873 - val_loss: 0.0664 - val_accuracy: 0.9902\n",
      "Epoch 7/20\n",
      "1875/1875 [==============================] - 68s 36ms/step - loss: 0.0378 - accuracy: 0.9884 - val_loss: 0.0702 - val_accuracy: 0.9916\n",
      "Epoch 8/20\n",
      "1875/1875 [==============================] - 68s 36ms/step - loss: 0.0354 - accuracy: 0.9890 - val_loss: 0.0515 - val_accuracy: 0.9930\n",
      "Epoch 9/20\n",
      "1875/1875 [==============================] - 68s 37ms/step - loss: 0.0341 - accuracy: 0.9897 - val_loss: 0.0423 - val_accuracy: 0.9928\n",
      "Epoch 10/20\n",
      "1875/1875 [==============================] - 68s 37ms/step - loss: 0.0334 - accuracy: 0.9898 - val_loss: 0.0510 - val_accuracy: 0.9914\n",
      "Epoch 11/20\n",
      "1875/1875 [==============================] - 68s 36ms/step - loss: 0.0330 - accuracy: 0.9901 - val_loss: 0.0596 - val_accuracy: 0.9939\n",
      "Epoch 12/20\n",
      "1875/1875 [==============================] - 68s 36ms/step - loss: 0.0316 - accuracy: 0.9901 - val_loss: 0.0502 - val_accuracy: 0.9922\n",
      "Epoch 13/20\n",
      "1875/1875 [==============================] - 68s 36ms/step - loss: 0.0310 - accuracy: 0.9904 - val_loss: 0.0368 - val_accuracy: 0.9934\n",
      "Epoch 14/20\n",
      "1875/1875 [==============================] - 69s 37ms/step - loss: 0.0310 - accuracy: 0.9905 - val_loss: 0.0376 - val_accuracy: 0.9924\n",
      "Epoch 15/20\n",
      "1875/1875 [==============================] - 69s 37ms/step - loss: 0.0298 - accuracy: 0.9910 - val_loss: 0.0366 - val_accuracy: 0.9916\n",
      "Epoch 16/20\n",
      "1875/1875 [==============================] - 69s 37ms/step - loss: 0.0305 - accuracy: 0.9908 - val_loss: 0.0339 - val_accuracy: 0.9929\n",
      "Epoch 17/20\n",
      "1875/1875 [==============================] - 68s 36ms/step - loss: 0.0280 - accuracy: 0.9917 - val_loss: 0.0377 - val_accuracy: 0.9929\n",
      "Epoch 18/20\n",
      "1875/1875 [==============================] - 68s 36ms/step - loss: 0.0303 - accuracy: 0.9906 - val_loss: 0.0448 - val_accuracy: 0.9922\n",
      "Epoch 19/20\n",
      "1875/1875 [==============================] - 69s 37ms/step - loss: 0.0298 - accuracy: 0.9911 - val_loss: 0.0336 - val_accuracy: 0.9938\n",
      "Epoch 20/20\n",
      "1875/1875 [==============================] - 69s 37ms/step - loss: 0.0263 - accuracy: 0.9918 - val_loss: 0.0290 - val_accuracy: 0.9938\n"
     ]
    },
    {
     "data": {
      "text/plain": [
       "<keras.callbacks.History at 0x115225b75b0>"
      ]
     },
     "execution_count": 10,
     "metadata": {},
     "output_type": "execute_result"
    }
   ],
   "source": [
    "model.fit([x_train,x_train],y_train,\n",
    "          validation_data=([x_test,x_test], y_test), \n",
    "          epochs=20, \n",
    "          batch_size=batch_size)"
   ]
  },
  {
   "cell_type": "code",
   "execution_count": 11,
   "id": "376b9b9f",
   "metadata": {},
   "outputs": [
    {
     "name": "stdout",
     "output_type": "stream",
     "text": [
      "\n",
      "Test accuracy: 99.4%\n"
     ]
    }
   ],
   "source": [
    "# model accuracy on test dataset\n",
    "score = model.evaluate([x_test, x_test],y_test,\n",
    "                       batch_size=batch_size,\n",
    "                       verbose=0)\n",
    "print(\"\\nTest accuracy: %.1f%%\" % (100.0 * score[1]))"
   ]
  },
  {
   "cell_type": "code",
   "execution_count": null,
   "id": "e3ddc8c8",
   "metadata": {},
   "outputs": [],
   "source": []
  }
 ],
 "metadata": {
  "kernelspec": {
   "display_name": "Python 3 (ipykernel)",
   "language": "python",
   "name": "python3"
  },
  "language_info": {
   "codemirror_mode": {
    "name": "ipython",
    "version": 3
   },
   "file_extension": ".py",
   "mimetype": "text/x-python",
   "name": "python",
   "nbconvert_exporter": "python",
   "pygments_lexer": "ipython3",
   "version": "3.9.12"
  }
 },
 "nbformat": 4,
 "nbformat_minor": 5
}
